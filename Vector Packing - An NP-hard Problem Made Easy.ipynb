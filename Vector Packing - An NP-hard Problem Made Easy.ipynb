{
 "cells": [
  {
   "cell_type": "code",
   "execution_count": null,
   "metadata": {
    "collapsed": true
   },
   "outputs": [],
   "source": [
    "from IPython.display import display"
   ]
  },
  {
   "cell_type": "markdown",
   "metadata": {},
   "source": [
    "conor frailey. \n",
    "studied math. \n",
    "no computers until about 2.5 years ago. \n",
    "not a great programmer at all.\n",
    "programming to solve stuff.\n",
    "i work at lineage logistics."
   ]
  },
  {
   "cell_type": "markdown",
   "metadata": {},
   "source": [
    "## Motivating Example : A knapsack\n",
    "Let's say you are going on a picnic and want to pack some food. You want to pack 3 sandwiches each with volume 2 and weight 1. You also want to pack 2 ice cream bars with volume 1 and weight 2. You also want to pack 2 water bottles with volume 2 and weight 2. Each knapsack can hold contents of total volume 5 and total weight 3. You want to use the least number of knapsacks to bring all your contents. How to do this?"
   ]
  },
  {
   "cell_type": "code",
   "execution_count": 2,
   "metadata": {
    "collapsed": true
   },
   "outputs": [],
   "source": [
    "s1 = (2,1)\n",
    "s2 = (2,1)\n",
    "s3 = (2,1)\n",
    "i1 = (1,2)\n",
    "i2 = (1,2)\n",
    "w1 = (2,2)\n",
    "w2 = (2,2)\n",
    "crap = (s1,s2,s3,i1,i2,w1,w2)\n",
    "knapsack = (5,3)\n",
    "# and then just... hmmmm"
   ]
  },
  {
   "cell_type": "markdown",
   "metadata": {},
   "source": [
    "Maybe some sort of recursion?"
   ]
  },
  {
   "cell_type": "code",
   "execution_count": 14,
   "metadata": {
    "collapsed": false
   },
   "outputs": [
    {
     "name": "stdout",
     "output_type": "stream",
     "text": [
      "The we tried to fit things 5040 times.\n",
      "The least number of bags we used was 4\n"
     ]
    }
   ],
   "source": [
    "# something like:\n",
    "from copy import copy\n",
    "still_to_place = list(crap)\n",
    "def add_item(in_current_knap, still_to_place, knap_sack_count, sum0, sum1):\n",
    "    knap_sack_counts = []\n",
    "    if not still_to_place: \n",
    "        return [knap_sack_count]\n",
    "    for i in still_to_place:\n",
    "        if (i[0] + sum0 >5) or (i[1] + sum1 >3): \n",
    "            nsum0 = i[0]\n",
    "            nsum1 = i[1]\n",
    "            nknap_sack_count = knap_sack_count+1\n",
    "            nin_current_knap = [i]\n",
    "        else:\n",
    "            nsum0 = i[0] + sum0\n",
    "            nsum1 = i[1] + sum1\n",
    "            nknap_sack_count = knap_sack_count\n",
    "            nin_current_knap = copy(in_current_knap)\n",
    "            nin_current_knap.append(i)\n",
    "        nstill_to_place = copy(still_to_place)\n",
    "        nstill_to_place.remove(i)\n",
    "        knap_sack_counts = knap_sack_counts +add_item(nin_current_knap, nstill_to_place, nknap_sack_count, nsum0, nsum1)\n",
    "    return knap_sack_counts\n",
    "knap_sack_counts = add_item([], still_to_place, 1, 0, 0)\n",
    "print(\"The we tried to fit things \"+str(len(knap_sack_counts)) +\" times.\")\n",
    "print(\"The least number of bags we used was \" + str(min(knap_sack_counts)))"
   ]
  },
  {
   "cell_type": "markdown",
   "metadata": {},
   "source": [
    "What is the complexity of this? \n",
    "Let's try for a more complex packing job. Maybe with hot dogs and soda and candy and gum."
   ]
  },
  {
   "cell_type": "code",
   "execution_count": 19,
   "metadata": {
    "collapsed": false
   },
   "outputs": [],
   "source": [
    "h = (1.1,.8)\n",
    "s = (1,1.4)\n",
    "c = (.7,.4)\n",
    "g = (.4,.2)\n",
    "items = [h,s,c,g,s1,i1,w1]\n",
    "from random import sample\n",
    "new_packing_list = [sample(items, 1)[0] for x in range(10)]"
   ]
  },
  {
   "cell_type": "code",
   "execution_count": 20,
   "metadata": {
    "collapsed": false
   },
   "outputs": [
    {
     "name": "stdout",
     "output_type": "stream",
     "text": [
      "The we tried to fit things 3628800 times.\n",
      "The least number of bags we used was 5\n"
     ]
    }
   ],
   "source": [
    "knap_sack_counts = add_item([], new_packing_list, 1, 0, 0)\n",
    "print(\"The we tried to fit things \"+str(len(knap_sack_counts)) +\" times.\")\n",
    "print(\"The least number of bags we used was \" + str(min(knap_sack_counts)))"
   ]
  },
  {
   "cell_type": "markdown",
   "metadata": {},
   "source": [
    "Now what? Look for stuff other people have done! Google \"knapsack problem\"."
   ]
  },
  {
   "cell_type": "markdown",
   "metadata": {},
   "source": [
    "# What is the knapsack packing problem as stated online?\n",
    "Given a set of vectors $A = \\{a_1, \\ldots a_m\\} \\in [ 0,1 ]^n$, find a partition $B_1, \\ldots, B_l$ of $A$ such that for all $i \\in \\{1, \\ldots ,l\\}$ and $j \\in \\{1, \\ldots n\\}$, $p_j(\\sum_{B_i}b) \\leq 1$ (where $p_j$ is the $j^{th}$ projection function) and such that for any other such partition $B'_1, \\ldots, B'_r$, $r\\geq l$. "
   ]
  },
  {
   "cell_type": "markdown",
   "metadata": {
    "collapsed": true
   },
   "source": [
    "## What does that mean?\n",
    "We think of think of the $a_i$ as our objects that each have $n$ components that say how much of that \"dimension\" of a standard \"knapsack\" or \"bin\" they take up. We think of the $B_i$ as the objects we put in \"bins\" or \"knap-sacks\" $i$. So we are trying to minimize the number of bins we have to use to carry all our objects. "
   ]
  },
  {
   "cell_type": "markdown",
   "metadata": {},
   "source": [
    "## Reformulate!"
   ]
  },
  {
   "cell_type": "code",
   "execution_count": 19,
   "metadata": {
    "collapsed": true
   },
   "outputs": [],
   "source": [
    "a1 = a2 = a3 = (2/5, 1/5) # normalized sandwiches"
   ]
  },
  {
   "cell_type": "code",
   "execution_count": 20,
   "metadata": {
    "collapsed": false
   },
   "outputs": [],
   "source": [
    "a4 = a5 = (1/5, 2/5) # normalized ice cream"
   ]
  },
  {
   "cell_type": "code",
   "execution_count": 21,
   "metadata": {
    "collapsed": true
   },
   "outputs": [],
   "source": [
    "a6 = a7 = (2/5, 2/5) # normalized water"
   ]
  },
  {
   "cell_type": "markdown",
   "metadata": {},
   "source": [
    "Great it looks like something on Wikipedia or somehting.... now please help me find solutions!"
   ]
  },
  {
   "cell_type": "markdown",
   "metadata": {},
   "source": [
    "## Brandao & Pedroso\n",
    "Filipe Brandao and João Pedro Pedroso of Faculdade de Ciências, Universidade do Porto, Portugal wrote a paper on finding solutions to this fast! https://arxiv.org/abs/1310.6887\n",
    "Brandao actually built some tools to solve this!\n",
    "https://github.com/fdabrandao/vpsolver\n",
    "Takes advantage of a lot of symmetries! Takes advantage of mixed integer programming (MIP) optimizers!\n",
    "SO EXCITING! So just go onto github and get that module and all that stuff...\n",
    "But I suck at configuring things and this requires quite a bit of configuring. Plus getting those MIP optimizers so I am screwed.\n",
    "Luckily they have a cool web tool for demonstrations:\n",
    "http://vpsolver.dcc.fc.up.pt/demo/vbp"
   ]
  },
  {
   "cell_type": "markdown",
   "metadata": {},
   "source": [
    "## Let's try!\n",
    "* Solve the movitating problem.\n",
    "* Solve a business problem. Storing pallets in a warehouse. I have 20 40in pallets, 5 50in pallets, 10 65in pallets, 2 100in pallets, 16 125in pallets, and 80 130in pallets. 600in tall bays. How many bays do you need to devote to this product?"
   ]
  },
  {
   "cell_type": "markdown",
   "metadata": {},
   "source": [
    "## Other examples:\n",
    "* Vacationing on a short vacation. Want to do a bunch of things over as few days as possible. Each day has finite time and you can only walk so much a day and only spend so much money per day (your per diem). \n",
    "* Data centers and their virtual machines. \n",
    "* The sexy world of refrigerated warehouses that I work in!"
   ]
  },
  {
   "cell_type": "markdown",
   "metadata": {},
   "source": [
    "Need a production quality tool that even I can use."
   ]
  },
  {
   "cell_type": "markdown",
   "metadata": {},
   "source": [
    "## Docker!\n",
    "\n",
    "http://www.slideshare.net/CalvinGiles/docker-for-data-science\n",
    "\n",
    "http://www.docker.com/\n",
    "\n",
    "https://hub.docker.com/\n",
    "\n",
    "What is it?\n",
    "CONTAINERS\n",
    "Containers include the application and all of its dependencies -- but share the kernel with other containers, running as isolated processes in user space on the host operating system. Docker containers are not tied to any specific infrastructure: they run on any computer, on any infrastructure, and in any cloud.\n",
    "\n",
    "To me: like virtual machine but less overhead, therefore easier to package something up neatly and completely self contained and then share."
   ]
  },
  {
   "cell_type": "markdown",
   "metadata": {
    "collapsed": true
   },
   "source": [
    "commands for a clear presentation:\n",
    "\n",
    "docker images # to see the images \n",
    "* an image is an ordered collection of root filesystem changes and the corresponding execution parameters for use within a container runtime\n",
    "docker ps # to see running containers\n",
    "* a container is a runtime instance of a docker image\n",
    "docker run --rm -it fdabrandao/vpsolver bash #load a container of this image and open bash in it\n",
    "\n",
    "source venv2.7/bin/activate # load a virtualenv\n",
    "\n",
    "cd examples/vpsolver/\n",
    "\n",
    "cp example_vbp.py demo.py\n",
    "\n",
    "vi demo.py\n",
    "- requires integers\n",
    "    W = (50, 30)\n",
    "    w = [(20, 10), (10, 20), (20, 20), (11, 8), (10, 14), (7, 4), (4, 2)]\n",
    "    b = [10, 10, 10, 10, 10, 10, 10]\n",
    "\n",
    "cd\n",
    "\n",
    "python examples/vpsolver/demo.py\n",
    "\n",
    "- the assertion error can be ignored. that's just for his example\n",
    "\n",
    "- that's great, but it's kinda a lot of work to \n",
    "\n"
   ]
  },
  {
   "cell_type": "markdown",
   "metadata": {},
   "source": [
    "## Volumes\n",
    "\n",
    "https://docs.docker.com/engine/tutorials/dockervolumes/\n",
    "\n",
    "To me it's a bridge between the host machine and the various containers. \n",
    "\n",
    "docker run --rm -it -v /Users/conorfrailey/demo:/demo fdabrandao/vpsolver bash"
   ]
  },
  {
   "cell_type": "markdown",
   "metadata": {},
   "source": [
    "# THANKS!!!!"
   ]
  },
  {
   "cell_type": "markdown",
   "metadata": {},
   "source": []
  }
 ],
 "metadata": {
  "anaconda-cloud": {},
  "kernelspec": {
   "display_name": "Python [Root]",
   "language": "python",
   "name": "Python [Root]"
  },
  "language_info": {
   "codemirror_mode": {
    "name": "ipython",
    "version": 3
   },
   "file_extension": ".py",
   "mimetype": "text/x-python",
   "name": "python",
   "nbconvert_exporter": "python",
   "pygments_lexer": "ipython3",
   "version": "3.5.2"
  }
 },
 "nbformat": 4,
 "nbformat_minor": 0
}
